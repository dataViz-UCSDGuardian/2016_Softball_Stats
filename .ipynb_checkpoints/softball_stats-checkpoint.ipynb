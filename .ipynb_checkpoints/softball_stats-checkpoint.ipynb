{
 "cells": [
  {
   "cell_type": "code",
   "execution_count": 1,
   "metadata": {
    "collapsed": false
   },
   "outputs": [],
   "source": [
    "import openpyxl\n",
    "import unicodedata\n",
    "import matplotlib.pyplot as plt\n",
    "import pandas as pd\n",
    "from bokeh.plotting import figure, output_file, show\n",
    "\n",
    "\n",
    "wb = openpyxl.load_workbook('Workbook3.xlsx')"
   ]
  },
  {
   "cell_type": "code",
   "execution_count": 2,
   "metadata": {
    "collapsed": false
   },
   "outputs": [
    {
     "name": "stdout",
     "output_type": "stream",
     "text": [
      "2.69 \n"
     ]
    }
   ],
   "source": [
    "sheet = wb.get_sheet_by_name(\"Sheet1\")\n",
    "print(sheet.cell(row=153,column=23).value)"
   ]
  },
  {
   "cell_type": "code",
   "execution_count": 3,
   "metadata": {
    "collapsed": false
   },
   "outputs": [],
   "source": [
    "raw = []\n",
    "number = []\n",
    "\n",
    "for rows in range(152,210):\n",
    "    for columns in range(23, 24):\n",
    "        unicode = sheet.cell(row=rows,column=columns).value\n",
    "        fixed = unicodedata.normalize(\"NFKD\", unicode)\n",
    "        fixed.strip()\n",
    "        raw.append(fixed)\n",
    "    number.append(rows-151)\n",
    "        \n",
    "data = [' '.join(x.split()) for x in raw]\n",
    "\n",
    "for i in range(0, len(data)):\n",
    "    data[i] = float(data[i])\n",
    "    "
   ]
  },
  {
   "cell_type": "code",
   "execution_count": 4,
   "metadata": {
    "collapsed": false
   },
   "outputs": [
    {
     "name": "stdout",
     "output_type": "stream",
     "text": [
      "[1.0, 2.69, 2.45, 1.81, 1.65, 1.71, 1.52, 1.81, 1.95, 2.02, 2.49, 2.33, 2.22, 2.43, 2.46, 2.36, 2.46, 2.38, 2.41, 2.34, 2.32, 2.29, 2.28, 2.22, 2.38, 2.36, 2.51, 2.8, 2.7, 2.71, 2.65, 2.96, 2.92, 2.96, 3.18, 3.23, 3.22, 3.27, 3.27, 3.21, 3.19, 3.23, 3.15, 3.15, 3.13, 3.11, 3.1, 3.1, 3.12, 3.14, 3.08, 3.06, 3.08, 3.1, 3.08, 3.07, 3.01, 3.05]\n",
      "[1, 2, 3, 4, 5, 6, 7, 8, 9, 10, 11, 12, 13, 14, 15, 16, 17, 18, 19, 20, 21, 22, 23, 24, 25, 26, 27, 28, 29, 30, 31, 32, 33, 34, 35, 36, 37, 38, 39, 40, 41, 42, 43, 44, 45, 46, 47, 48, 49, 50, 51, 52, 53, 54, 55, 56, 57, 58]\n"
     ]
    }
   ],
   "source": [
    "print(data)\n",
    "print(number)"
   ]
  },
  {
   "cell_type": "code",
   "execution_count": 13,
   "metadata": {
    "collapsed": false
   },
   "outputs": [],
   "source": [
    "graph = figure(plot_width=400, plot_height=400)\n",
    "\n",
    "output_file(\"line.html\")\n",
    "\n",
    "graph.line(number, data, line_width=2, name=\"ERA\")\n",
    "\n",
    "show(graph)"
   ]
  },
  {
   "cell_type": "code",
   "execution_count": null,
   "metadata": {
    "collapsed": true
   },
   "outputs": [],
   "source": []
  },
  {
   "cell_type": "code",
   "execution_count": null,
   "metadata": {
    "collapsed": true
   },
   "outputs": [],
   "source": []
  }
 ],
 "metadata": {
  "kernelspec": {
   "display_name": "Python 3",
   "language": "python",
   "name": "python3"
  },
  "language_info": {
   "codemirror_mode": {
    "name": "ipython",
    "version": 3
   },
   "file_extension": ".py",
   "mimetype": "text/x-python",
   "name": "python",
   "nbconvert_exporter": "python",
   "pygments_lexer": "ipython3",
   "version": "3.5.1"
  }
 },
 "nbformat": 4,
 "nbformat_minor": 0
}
